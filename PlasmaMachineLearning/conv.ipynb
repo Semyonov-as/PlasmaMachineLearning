{
 "cells": [
  {
   "cell_type": "markdown",
   "metadata": {},
   "source": [
    "Convolutional approach"
   ]
  },
  {
   "cell_type": "code",
   "execution_count": 1,
   "metadata": {},
   "outputs": [],
   "source": [
    "import numpy as np\n",
    "import torch\n",
    "from sklearn.model_selection import train_test_split\n",
    "import torch.nn.functional as F\n",
    "import torch.nn as nn\n",
    "from tqdm import trange\n",
    "import matplotlib.pyplot as plt\n"
   ]
  },
  {
   "cell_type": "code",
   "execution_count": 2,
   "metadata": {},
   "outputs": [],
   "source": [
    "rel_path = '../trunk_sss/BIN/Debug/'\n",
    "\n",
    "A_ref = np.loadtxt(f'{rel_path}RESULT0/Inductance_ALIJ.dat', skiprows=1, dtype=float)\n",
    "PN_ref = np.loadtxt(f'{rel_path}RESULT0/ProbeVoltagePN.dat', skiprows=1, dtype=float, usecols=np.arange(1, 9))\n",
    "PT_ref = np.loadtxt(f'{rel_path}RESULT0/ProbeVoltagePT.dat', skiprows=1, dtype=float, usecols=np.arange(1, 9))"
   ]
  },
  {
   "cell_type": "code",
   "execution_count": 3,
   "metadata": {},
   "outputs": [],
   "source": [
    "A = []\n",
    "PN = []\n",
    "PT = []\n",
    "for i in range(1000):\n",
    "    A.append(np.loadtxt(f\"{rel_path}RESULT1/A{i}.dat\", skiprows=1, dtype=float))\n",
    "    PN.append(np.loadtxt(f\"{rel_path}RESULT1/PN{i}.dat\", skiprows=1, dtype=float, usecols=np.arange(1, 9)))\n",
    "    PT.append(np.loadtxt(f\"{rel_path}RESULT1/PT{i}.dat\", skiprows=1, dtype=float, usecols=np.arange(1, 9)))\n"
   ]
  },
  {
   "cell_type": "code",
   "execution_count": 4,
   "metadata": {},
   "outputs": [],
   "source": [
    "Delta_PN = np.array([(x - PN_ref) for x in PN])\n",
    "Delta_PT = np.array([(x - PT_ref) for x in PT])"
   ]
  },
  {
   "cell_type": "code",
   "execution_count": 9,
   "metadata": {},
   "outputs": [],
   "source": [
    "Delta_PN = torch.tensor(Delta_PN).permute(0,2,1)\n",
    "Delta_PT = torch.tensor(Delta_PT).permute(0,2,1)\n"
   ]
  },
  {
   "cell_type": "code",
   "execution_count": 10,
   "metadata": {},
   "outputs": [],
   "source": [
    "# Leave only above diagonal elements\n",
    "Delta_A = np.array([(x - A_ref) for x in A])\n",
    "New_delta_A = []\n",
    "for D_A in Delta_A:\n",
    "    new = []\n",
    "    for i in range(12):\n",
    "        tmp = []\n",
    "        for j in range(i):\n",
    "            tmp.append(D_A[i][j])\n",
    "        if tmp != []:\n",
    "            for x in tmp:\n",
    "                new.append(x)\n",
    "\n",
    "    New_delta_A.append(new)\n",
    "\n",
    "New_delta_A = np.array(New_delta_A)"
   ]
  },
  {
   "cell_type": "code",
   "execution_count": 11,
   "metadata": {},
   "outputs": [
    {
     "data": {
      "text/plain": [
       "(1000, 16, 161)"
      ]
     },
     "execution_count": 11,
     "metadata": {},
     "output_type": "execute_result"
    }
   ],
   "source": [
    "Delta_IN = np.concatenate((Delta_PN, Delta_PT), axis=1)\n",
    "\n",
    "Delta_IN.shape"
   ]
  },
  {
   "cell_type": "code",
   "execution_count": null,
   "metadata": {},
   "outputs": [],
   "source": [
    "class Net(nn.Module):\n",
    "    def __init__(self, device, input_shape, output_dim):\n",
    "        super(Net, self).__init__()\n",
    "\n",
    "        self.input_shape = input_shape\n",
    "\n",
    "        self.conv = nn.Sequential(\n",
    "            nn.Conv1d(16, 4, 5, stride=2),\n",
    "            nn.ReLU(),\n",
    "            nn.MaxPool1d(2, stride=2),\n",
    "            nn.Conv1d(4, 1, 2, stride=2),\n",
    "            nn.ReLU(),\n",
    "            nn.MaxPool1d(2, stride=2),\n",
    "        ).to(device)\n",
    "\n",
    "        conv_out = self._get_conv_out()\n",
    "\n",
    "        self.fc = nn.Sequential(\n",
    "            nn.Linear(conv_out, 2*output_dim),\n",
    "            nn.ReLU(),\n",
    "            nn.Linear(2*output_dim, output_dim),\n",
    "            nn.ReLU(),\n",
    "            nn.Linear(output_dim, output_dim)\n",
    "        ).to(device)\n",
    "\n",
    "    def forward(self, x):\n",
    "        out = self.conv(x)\n",
    "        return self.fc(out.view(out.shape[0],-1))\n",
    "\n",
    "\n",
    "    def _get_conv_out(self):\n",
    "        o = self.conv(torch.zeros(*self.input_shape))\n",
    "        return int(np.prod(o.shape[1:]))"
   ]
  }
 ],
 "metadata": {
  "interpreter": {
   "hash": "95ec9ec1504d83f612128e0fb229072f90bbb4cb09d9d5d93b5dd26e0ca2cfd1"
  },
  "kernelspec": {
   "display_name": "Python 3.9.6 64-bit ('base': conda)",
   "name": "python3"
  },
  "language_info": {
   "codemirror_mode": {
    "name": "ipython",
    "version": 3
   },
   "file_extension": ".py",
   "mimetype": "text/x-python",
   "name": "python",
   "nbconvert_exporter": "python",
   "pygments_lexer": "ipython3",
   "version": "3.9.5"
  },
  "orig_nbformat": 4
 },
 "nbformat": 4,
 "nbformat_minor": 2
}
